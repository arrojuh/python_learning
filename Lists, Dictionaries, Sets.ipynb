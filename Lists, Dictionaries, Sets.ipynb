{
 "cells": [
  {
   "cell_type": "code",
   "execution_count": 115,
   "id": "2546d88b",
   "metadata": {},
   "outputs": [],
   "source": [
    "#List Operations\n",
    "\n",
    "#0 [val1,val2,val3...] --- to create a list\n",
    "#1 - list() - -to make list\n",
    "#2  - append()-- to add an element to the list\n",
    "#3 -- insert() -- to add an element at any specific index\n",
    "#4 --- remove() --- to remove a value from list\n",
    "#5 --- pop() ---- remove last element/indexed element in the list\n",
    "#Dictionary\n",
    "\n",
    "#0 -- {key:val} -- to create a dictionary\n",
    "#1 -- dict() - to make a dictionary\n",
    "#2 --update() -- update the dictionary\n",
    "#3 -- del --- to remove a key/val from dictionary\n",
    "#4 -- pop() --- to remove a key/val from dictionary\n",
    "\n",
    "#Set\n",
    "\n",
    "#0 {val1,val2,val3...} --- to create a set\n",
    "#1 -- set() - to make a set\n",
    "#2 --update() -- update a set with another set\n",
    "#3 -- add --- to add one element to the set\n",
    "#4 -- remove() --- to remove a val from set\n"
   ]
  },
  {
   "cell_type": "code",
   "execution_count": null,
   "id": "8250e47f",
   "metadata": {},
   "outputs": [],
   "source": []
  },
  {
   "cell_type": "code",
   "execution_count": null,
   "id": "1b3a5c44",
   "metadata": {},
   "outputs": [],
   "source": []
  },
  {
   "cell_type": "markdown",
   "id": "f116775a",
   "metadata": {},
   "source": [
    "## List "
   ]
  },
  {
   "cell_type": "code",
   "execution_count": 1,
   "id": "a1ca5dfb",
   "metadata": {},
   "outputs": [],
   "source": [
    "list1 = ['1',1,'2','3',2,3]"
   ]
  },
  {
   "cell_type": "code",
   "execution_count": 2,
   "id": "9ea63edf",
   "metadata": {},
   "outputs": [
    {
     "data": {
      "text/plain": [
       "'1'"
      ]
     },
     "execution_count": 2,
     "metadata": {},
     "output_type": "execute_result"
    }
   ],
   "source": [
    "list1[0]"
   ]
  },
  {
   "cell_type": "code",
   "execution_count": 3,
   "id": "7976a886",
   "metadata": {},
   "outputs": [
    {
     "data": {
      "text/plain": [
       "'2'"
      ]
     },
     "execution_count": 3,
     "metadata": {},
     "output_type": "execute_result"
    }
   ],
   "source": [
    "list1[2]"
   ]
  },
  {
   "cell_type": "code",
   "execution_count": 4,
   "id": "e65e6fe8",
   "metadata": {},
   "outputs": [
    {
     "data": {
      "text/plain": [
       "'12'"
      ]
     },
     "execution_count": 4,
     "metadata": {},
     "output_type": "execute_result"
    }
   ],
   "source": [
    "list1[0]+list1[2]"
   ]
  },
  {
   "cell_type": "code",
   "execution_count": 5,
   "id": "cee04c94",
   "metadata": {},
   "outputs": [],
   "source": [
    "a =list1[0]"
   ]
  },
  {
   "cell_type": "code",
   "execution_count": 6,
   "id": "fdcfc6b7",
   "metadata": {},
   "outputs": [],
   "source": [
    "b = list1[2]"
   ]
  },
  {
   "cell_type": "code",
   "execution_count": 7,
   "id": "7840d624",
   "metadata": {},
   "outputs": [
    {
     "data": {
      "text/plain": [
       "'1'"
      ]
     },
     "execution_count": 7,
     "metadata": {},
     "output_type": "execute_result"
    }
   ],
   "source": [
    "a"
   ]
  },
  {
   "cell_type": "code",
   "execution_count": 8,
   "id": "2c32902f",
   "metadata": {},
   "outputs": [
    {
     "data": {
      "text/plain": [
       "'2'"
      ]
     },
     "execution_count": 8,
     "metadata": {},
     "output_type": "execute_result"
    }
   ],
   "source": [
    "b"
   ]
  },
  {
   "cell_type": "code",
   "execution_count": 19,
   "id": "3df05054",
   "metadata": {},
   "outputs": [
    {
     "data": {
      "text/plain": [
       "False"
      ]
     },
     "execution_count": 19,
     "metadata": {},
     "output_type": "execute_result"
    }
   ],
   "source": [
    "list1[0]==list1[1]"
   ]
  },
  {
   "cell_type": "code",
   "execution_count": 10,
   "id": "ca8be544",
   "metadata": {
    "scrolled": true
   },
   "outputs": [
    {
     "data": {
      "text/plain": [
       "'222'"
      ]
     },
     "execution_count": 10,
     "metadata": {},
     "output_type": "execute_result"
    }
   ],
   "source": [
    "list1[2]*list1[5]"
   ]
  },
  {
   "cell_type": "code",
   "execution_count": 12,
   "id": "7dca7716",
   "metadata": {},
   "outputs": [],
   "source": [
    "#1method to make a list\n",
    "\n",
    "list2 = [1,2,3,4,5]"
   ]
  },
  {
   "cell_type": "code",
   "execution_count": 44,
   "id": "a2f196b1",
   "metadata": {},
   "outputs": [],
   "source": [
    "#2 method to make list\n",
    "\n",
    "list3 = list(('a','b','c','d','e'))"
   ]
  },
  {
   "cell_type": "code",
   "execution_count": 15,
   "id": "9e3deacc",
   "metadata": {},
   "outputs": [
    {
     "data": {
      "text/plain": [
       "['a', 'b', 'c', 'd', 'e']"
      ]
     },
     "execution_count": 15,
     "metadata": {},
     "output_type": "execute_result"
    }
   ],
   "source": [
    "list3"
   ]
  },
  {
   "cell_type": "code",
   "execution_count": 20,
   "id": "b434d33e",
   "metadata": {},
   "outputs": [
    {
     "data": {
      "text/plain": [
       "True"
      ]
     },
     "execution_count": 20,
     "metadata": {},
     "output_type": "execute_result"
    }
   ],
   "source": [
    "list((1,2,3,4,5))==[1,2,3,4,5]"
   ]
  },
  {
   "cell_type": "code",
   "execution_count": 55,
   "id": "18943c03",
   "metadata": {},
   "outputs": [],
   "source": [
    "list4 = ['e','r','t','d']"
   ]
  },
  {
   "cell_type": "code",
   "execution_count": 22,
   "id": "62bdaf2f",
   "metadata": {},
   "outputs": [],
   "source": [
    "new = 's'"
   ]
  },
  {
   "cell_type": "code",
   "execution_count": 26,
   "id": "3430a2f2",
   "metadata": {},
   "outputs": [],
   "source": [
    "#append ----> to add a an element to list\n",
    "list4.append(new)"
   ]
  },
  {
   "cell_type": "code",
   "execution_count": 27,
   "id": "c4e6f6d4",
   "metadata": {},
   "outputs": [
    {
     "data": {
      "text/plain": [
       "['e', 'r', 't', 'd', 's']"
      ]
     },
     "execution_count": 27,
     "metadata": {},
     "output_type": "execute_result"
    }
   ],
   "source": [
    "list4"
   ]
  },
  {
   "cell_type": "code",
   "execution_count": 28,
   "id": "980f681f",
   "metadata": {},
   "outputs": [],
   "source": [
    "#insert-----> to add an element at specific index"
   ]
  },
  {
   "cell_type": "code",
   "execution_count": 29,
   "id": "1301ae03",
   "metadata": {},
   "outputs": [],
   "source": [
    "list4.insert(1,\"a\")"
   ]
  },
  {
   "cell_type": "code",
   "execution_count": 117,
   "id": "1e8348d5",
   "metadata": {},
   "outputs": [
    {
     "data": {
      "text/plain": [
       "['e', 'r', 't', 'd', 'u']"
      ]
     },
     "execution_count": 117,
     "metadata": {},
     "output_type": "execute_result"
    }
   ],
   "source": [
    "list4"
   ]
  },
  {
   "cell_type": "code",
   "execution_count": 124,
   "id": "20e89421",
   "metadata": {},
   "outputs": [
    {
     "data": {
      "text/plain": [
       "'r'"
      ]
     },
     "execution_count": 124,
     "metadata": {},
     "output_type": "execute_result"
    }
   ],
   "source": [
    "list4.pop(0)"
   ]
  },
  {
   "cell_type": "code",
   "execution_count": 121,
   "id": "5ca60925",
   "metadata": {},
   "outputs": [],
   "source": [
    "del list4[0]"
   ]
  },
  {
   "cell_type": "code",
   "execution_count": 123,
   "id": "b31fcbbe",
   "metadata": {},
   "outputs": [
    {
     "data": {
      "text/plain": [
       "['r', 't', 'd']"
      ]
     },
     "execution_count": 123,
     "metadata": {},
     "output_type": "execute_result"
    }
   ],
   "source": [
    "list4"
   ]
  },
  {
   "cell_type": "code",
   "execution_count": 31,
   "id": "ac4f6fc1",
   "metadata": {},
   "outputs": [],
   "source": [
    "list4.remove('r')"
   ]
  },
  {
   "cell_type": "code",
   "execution_count": 32,
   "id": "87369613",
   "metadata": {},
   "outputs": [
    {
     "data": {
      "text/plain": [
       "['e', 'a', 't', 'd', 's']"
      ]
     },
     "execution_count": 32,
     "metadata": {},
     "output_type": "execute_result"
    }
   ],
   "source": [
    "list4"
   ]
  },
  {
   "cell_type": "code",
   "execution_count": 33,
   "id": "dc1f428e",
   "metadata": {},
   "outputs": [],
   "source": [
    "list4.append(list3)"
   ]
  },
  {
   "cell_type": "code",
   "execution_count": 34,
   "id": "95a5613a",
   "metadata": {},
   "outputs": [
    {
     "data": {
      "text/plain": [
       "['e', 'a', 't', 'd', 's', ['a', 'b', 'c', 'd', 'e']]"
      ]
     },
     "execution_count": 34,
     "metadata": {},
     "output_type": "execute_result"
    }
   ],
   "source": [
    "list4"
   ]
  },
  {
   "cell_type": "code",
   "execution_count": 36,
   "id": "87b41e06",
   "metadata": {},
   "outputs": [
    {
     "data": {
      "text/plain": [
       "['e', 'r', 't', 'd', 'a', 'b', 'c', 'd', 'e']"
      ]
     },
     "execution_count": 36,
     "metadata": {},
     "output_type": "execute_result"
    }
   ],
   "source": [
    "list4 + list3"
   ]
  },
  {
   "cell_type": "code",
   "execution_count": 39,
   "id": "57b5c877",
   "metadata": {},
   "outputs": [],
   "source": [
    "list5 = list3"
   ]
  },
  {
   "cell_type": "code",
   "execution_count": 42,
   "id": "4835ed25",
   "metadata": {},
   "outputs": [],
   "source": [
    "list5[3] = 4"
   ]
  },
  {
   "cell_type": "code",
   "execution_count": 43,
   "id": "b7bcfa9d",
   "metadata": {},
   "outputs": [
    {
     "data": {
      "text/plain": [
       "['a', 'b', 'c', 4, 'e']"
      ]
     },
     "execution_count": 43,
     "metadata": {},
     "output_type": "execute_result"
    }
   ],
   "source": [
    "list3"
   ]
  },
  {
   "cell_type": "code",
   "execution_count": 45,
   "id": "e20bf50d",
   "metadata": {},
   "outputs": [],
   "source": [
    "list5 = list3.copy()"
   ]
  },
  {
   "cell_type": "code",
   "execution_count": 46,
   "id": "af7b5955",
   "metadata": {},
   "outputs": [
    {
     "data": {
      "text/plain": [
       "['a', 'b', 'c', 'd', 'e']"
      ]
     },
     "execution_count": 46,
     "metadata": {},
     "output_type": "execute_result"
    }
   ],
   "source": [
    "list5"
   ]
  },
  {
   "cell_type": "code",
   "execution_count": 47,
   "id": "11ea49dd",
   "metadata": {},
   "outputs": [
    {
     "data": {
      "text/plain": [
       "['a', 'b', 'c', 'd', 'e']"
      ]
     },
     "execution_count": 47,
     "metadata": {},
     "output_type": "execute_result"
    }
   ],
   "source": [
    "list3"
   ]
  },
  {
   "cell_type": "code",
   "execution_count": 48,
   "id": "0f39939d",
   "metadata": {},
   "outputs": [],
   "source": [
    "list5[1] = 1"
   ]
  },
  {
   "cell_type": "code",
   "execution_count": 49,
   "id": "b134e36d",
   "metadata": {},
   "outputs": [
    {
     "data": {
      "text/plain": [
       "['a', 'b', 'c', 'd', 'e']"
      ]
     },
     "execution_count": 49,
     "metadata": {},
     "output_type": "execute_result"
    }
   ],
   "source": [
    "list3"
   ]
  },
  {
   "cell_type": "code",
   "execution_count": 50,
   "id": "80cebdc5",
   "metadata": {},
   "outputs": [
    {
     "data": {
      "text/plain": [
       "['a', 1, 'c', 'd', 'e']"
      ]
     },
     "execution_count": 50,
     "metadata": {},
     "output_type": "execute_result"
    }
   ],
   "source": [
    "list5"
   ]
  },
  {
   "cell_type": "code",
   "execution_count": 51,
   "id": "3086ae23",
   "metadata": {},
   "outputs": [],
   "source": [
    "## list element operations, append, insert, remove, add two lists, copy lists"
   ]
  },
  {
   "cell_type": "code",
   "execution_count": 56,
   "id": "4a5337b1",
   "metadata": {},
   "outputs": [],
   "source": [
    "list4.append('u')"
   ]
  },
  {
   "cell_type": "code",
   "execution_count": 57,
   "id": "84339143",
   "metadata": {},
   "outputs": [
    {
     "data": {
      "text/plain": [
       "['e', 'r', 't', 'd', 'u']"
      ]
     },
     "execution_count": 57,
     "metadata": {},
     "output_type": "execute_result"
    }
   ],
   "source": [
    "list4"
   ]
  },
  {
   "cell_type": "code",
   "execution_count": 58,
   "id": "bf796c68",
   "metadata": {},
   "outputs": [
    {
     "data": {
      "text/plain": [
       "['e', 'r', 't', 'd', 'u', 'a', 'b', 'c', 'd', 'e']"
      ]
     },
     "execution_count": 58,
     "metadata": {},
     "output_type": "execute_result"
    }
   ],
   "source": [
    "list4+list3"
   ]
  },
  {
   "cell_type": "code",
   "execution_count": 60,
   "id": "b4fdba81",
   "metadata": {},
   "outputs": [],
   "source": [
    "list5 = list4+list3"
   ]
  },
  {
   "cell_type": "code",
   "execution_count": 61,
   "id": "fb09f170",
   "metadata": {},
   "outputs": [
    {
     "data": {
      "text/plain": [
       "['e', 'r', 't', 'd', 'u', 'a', 'b', 'c', 'd', 'e']"
      ]
     },
     "execution_count": 61,
     "metadata": {},
     "output_type": "execute_result"
    }
   ],
   "source": [
    "list5"
   ]
  },
  {
   "cell_type": "markdown",
   "id": "e71c6d99",
   "metadata": {},
   "source": [
    "## Dictionary"
   ]
  },
  {
   "cell_type": "code",
   "execution_count": 85,
   "id": "b8ec0d42",
   "metadata": {},
   "outputs": [],
   "source": [
    "dict4 = dict([('a',1),('b',2),('c',3)]) ##method 1 to create dictionary"
   ]
  },
  {
   "cell_type": "code",
   "execution_count": 86,
   "id": "44f72fbc",
   "metadata": {},
   "outputs": [
    {
     "data": {
      "text/plain": [
       "{'a': 1, 'b': 2, 'c': 3}"
      ]
     },
     "execution_count": 86,
     "metadata": {},
     "output_type": "execute_result"
    }
   ],
   "source": [
    "dict4"
   ]
  },
  {
   "cell_type": "code",
   "execution_count": 62,
   "id": "f8acf96e",
   "metadata": {},
   "outputs": [],
   "source": [
    "dict1 ={'a':1,'b':2,3:'c','d':[1,2,3,4,5]} ##method 2 to create dictionary"
   ]
  },
  {
   "cell_type": "code",
   "execution_count": 63,
   "id": "4775fa0e",
   "metadata": {},
   "outputs": [],
   "source": [
    "dict2 = {'e':(1,2,3),'f':5}"
   ]
  },
  {
   "cell_type": "code",
   "execution_count": 64,
   "id": "55bd10f0",
   "metadata": {},
   "outputs": [
    {
     "data": {
      "text/plain": [
       "1"
      ]
     },
     "execution_count": 64,
     "metadata": {},
     "output_type": "execute_result"
    }
   ],
   "source": [
    "dict1['a']"
   ]
  },
  {
   "cell_type": "code",
   "execution_count": 65,
   "id": "62e720b7",
   "metadata": {},
   "outputs": [
    {
     "data": {
      "text/plain": [
       "[1, 2, 3, 4, 5]"
      ]
     },
     "execution_count": 65,
     "metadata": {},
     "output_type": "execute_result"
    }
   ],
   "source": [
    "dict1['d']"
   ]
  },
  {
   "cell_type": "code",
   "execution_count": 66,
   "id": "d0292365",
   "metadata": {},
   "outputs": [],
   "source": [
    "dict1['d'].append(dict1['a'])"
   ]
  },
  {
   "cell_type": "code",
   "execution_count": 67,
   "id": "45f95d47",
   "metadata": {},
   "outputs": [
    {
     "data": {
      "text/plain": [
       "[1, 2, 3, 4, 5, 1]"
      ]
     },
     "execution_count": 67,
     "metadata": {},
     "output_type": "execute_result"
    }
   ],
   "source": [
    "dict1['d']"
   ]
  },
  {
   "cell_type": "code",
   "execution_count": 69,
   "id": "a89202bc",
   "metadata": {},
   "outputs": [
    {
     "data": {
      "text/plain": [
       "{'a': 1, 'b': 2, 3: 'c', 'd': [1, 2, 3, 4, 5, 1]}"
      ]
     },
     "execution_count": 69,
     "metadata": {},
     "output_type": "execute_result"
    }
   ],
   "source": [
    "dict1"
   ]
  },
  {
   "cell_type": "code",
   "execution_count": 70,
   "id": "8ce5f1c4",
   "metadata": {},
   "outputs": [
    {
     "data": {
      "text/plain": [
       "2"
      ]
     },
     "execution_count": 70,
     "metadata": {},
     "output_type": "execute_result"
    }
   ],
   "source": [
    "dict1['a']*dict1['b']"
   ]
  },
  {
   "cell_type": "code",
   "execution_count": 71,
   "id": "be9d607e",
   "metadata": {},
   "outputs": [
    {
     "data": {
      "text/plain": [
       "{'e': (1, 2, 3), 'f': 5}"
      ]
     },
     "execution_count": 71,
     "metadata": {},
     "output_type": "execute_result"
    }
   ],
   "source": [
    "dict2"
   ]
  },
  {
   "cell_type": "code",
   "execution_count": 73,
   "id": "c8bb41dc",
   "metadata": {},
   "outputs": [],
   "source": [
    "dict2.update({\"g\":'h'})"
   ]
  },
  {
   "cell_type": "code",
   "execution_count": 74,
   "id": "00c8fea6",
   "metadata": {},
   "outputs": [
    {
     "data": {
      "text/plain": [
       "{'e': (1, 2, 3), 'f': 5, 'g': 'h'}"
      ]
     },
     "execution_count": 74,
     "metadata": {},
     "output_type": "execute_result"
    }
   ],
   "source": [
    "dict2"
   ]
  },
  {
   "cell_type": "code",
   "execution_count": 75,
   "id": "a6ed9a44",
   "metadata": {},
   "outputs": [
    {
     "data": {
      "text/plain": [
       "{'a': 1, 'b': 2, 3: 'c', 'd': [1, 2, 3, 4, 5, 1]}"
      ]
     },
     "execution_count": 75,
     "metadata": {},
     "output_type": "execute_result"
    }
   ],
   "source": [
    "dict1"
   ]
  },
  {
   "cell_type": "code",
   "execution_count": 76,
   "id": "15cff97f",
   "metadata": {},
   "outputs": [
    {
     "data": {
      "text/plain": [
       "{'e': (1, 2, 3), 'f': 5, 'g': 'h'}"
      ]
     },
     "execution_count": 76,
     "metadata": {},
     "output_type": "execute_result"
    }
   ],
   "source": [
    "dict2"
   ]
  },
  {
   "cell_type": "code",
   "execution_count": 77,
   "id": "7b3e8cde",
   "metadata": {},
   "outputs": [],
   "source": [
    "dict1.update(dict2)"
   ]
  },
  {
   "cell_type": "code",
   "execution_count": 78,
   "id": "e510e3c8",
   "metadata": {},
   "outputs": [
    {
     "data": {
      "text/plain": [
       "{'a': 1,\n",
       " 'b': 2,\n",
       " 3: 'c',\n",
       " 'd': [1, 2, 3, 4, 5, 1],\n",
       " 'e': (1, 2, 3),\n",
       " 'f': 5,\n",
       " 'g': 'h'}"
      ]
     },
     "execution_count": 78,
     "metadata": {},
     "output_type": "execute_result"
    }
   ],
   "source": [
    "dict1"
   ]
  },
  {
   "cell_type": "code",
   "execution_count": 81,
   "id": "5bcab8cc",
   "metadata": {},
   "outputs": [
    {
     "data": {
      "text/plain": [
       "dict_keys(['a', 'b', 3, 'd', 'e', 'f', 'g'])"
      ]
     },
     "execution_count": 81,
     "metadata": {},
     "output_type": "execute_result"
    }
   ],
   "source": [
    "dict1.keys()"
   ]
  },
  {
   "cell_type": "code",
   "execution_count": 82,
   "id": "756f9b6c",
   "metadata": {
    "scrolled": false
   },
   "outputs": [
    {
     "data": {
      "text/plain": [
       "dict_values([1, 2, 'c', [1, 2, 3, 4, 5, 1], (1, 2, 3), 5, 'h'])"
      ]
     },
     "execution_count": 82,
     "metadata": {},
     "output_type": "execute_result"
    }
   ],
   "source": [
    "dict1.values()"
   ]
  },
  {
   "cell_type": "code",
   "execution_count": 106,
   "id": "1070fa97",
   "metadata": {},
   "outputs": [],
   "source": [
    "#remove a val/key from dictionary\n",
    "#method1 del\n",
    "\n",
    "del dict1['a']"
   ]
  },
  {
   "cell_type": "code",
   "execution_count": 107,
   "id": "37e489c9",
   "metadata": {
    "scrolled": true
   },
   "outputs": [
    {
     "data": {
      "text/plain": [
       "{'b': 2, 3: 'c', 'd': [1, 2, 3, 4, 5, 1], 'e': (1, 2, 3), 'f': 5, 'g': 'h'}"
      ]
     },
     "execution_count": 107,
     "metadata": {},
     "output_type": "execute_result"
    }
   ],
   "source": [
    "dict1"
   ]
  },
  {
   "cell_type": "code",
   "execution_count": 109,
   "id": "68732c6c",
   "metadata": {},
   "outputs": [
    {
     "data": {
      "text/plain": [
       "2"
      ]
     },
     "execution_count": 109,
     "metadata": {},
     "output_type": "execute_result"
    }
   ],
   "source": [
    "#method2 Pop\n",
    "\n",
    "dict1.pop('b')"
   ]
  },
  {
   "cell_type": "code",
   "execution_count": 111,
   "id": "d8c2d8c9",
   "metadata": {},
   "outputs": [
    {
     "data": {
      "text/plain": [
       "{3: 'c', 'd': [1, 2, 3, 4, 5, 1], 'e': (1, 2, 3), 'f': 5, 'g': 'h'}"
      ]
     },
     "execution_count": 111,
     "metadata": {},
     "output_type": "execute_result"
    }
   ],
   "source": [
    "dict1"
   ]
  },
  {
   "cell_type": "markdown",
   "id": "1fe1a4cf",
   "metadata": {},
   "source": [
    "## Sets"
   ]
  },
  {
   "cell_type": "code",
   "execution_count": 87,
   "id": "594e5a54",
   "metadata": {},
   "outputs": [],
   "source": [
    "set1 = {1,2,3,4,4} ##method 1 to create set"
   ]
  },
  {
   "cell_type": "code",
   "execution_count": 88,
   "id": "0803bbf8",
   "metadata": {},
   "outputs": [
    {
     "data": {
      "text/plain": [
       "{1, 2, 3, 4}"
      ]
     },
     "execution_count": 88,
     "metadata": {},
     "output_type": "execute_result"
    }
   ],
   "source": [
    "set1"
   ]
  },
  {
   "cell_type": "code",
   "execution_count": 100,
   "id": "a9131e23",
   "metadata": {},
   "outputs": [],
   "source": [
    "set2 = set(('a','b','f','d')) ##method 2 to create set"
   ]
  },
  {
   "cell_type": "code",
   "execution_count": 101,
   "id": "12ca83b8",
   "metadata": {},
   "outputs": [
    {
     "data": {
      "text/plain": [
       "{'a', 'b', 'd', 'f'}"
      ]
     },
     "execution_count": 101,
     "metadata": {},
     "output_type": "execute_result"
    }
   ],
   "source": [
    "set2"
   ]
  },
  {
   "cell_type": "code",
   "execution_count": 102,
   "id": "849282e4",
   "metadata": {},
   "outputs": [],
   "source": [
    "set2.add('e')"
   ]
  },
  {
   "cell_type": "code",
   "execution_count": 103,
   "id": "1e928c87",
   "metadata": {},
   "outputs": [
    {
     "data": {
      "text/plain": [
       "{'a', 'b', 'd', 'e', 'f'}"
      ]
     },
     "execution_count": 103,
     "metadata": {},
     "output_type": "execute_result"
    }
   ],
   "source": [
    "set2"
   ]
  },
  {
   "cell_type": "code",
   "execution_count": 104,
   "id": "71510f06",
   "metadata": {},
   "outputs": [],
   "source": [
    "set2.update({8,7,6})"
   ]
  },
  {
   "cell_type": "code",
   "execution_count": 105,
   "id": "afc33cad",
   "metadata": {},
   "outputs": [
    {
     "data": {
      "text/plain": [
       "{6, 7, 8, 'a', 'b', 'd', 'e', 'f'}"
      ]
     },
     "execution_count": 105,
     "metadata": {},
     "output_type": "execute_result"
    }
   ],
   "source": [
    "set2"
   ]
  },
  {
   "cell_type": "code",
   "execution_count": 112,
   "id": "b9098dda",
   "metadata": {},
   "outputs": [],
   "source": [
    "set2.remove('a')"
   ]
  },
  {
   "cell_type": "code",
   "execution_count": 113,
   "id": "982d651a",
   "metadata": {},
   "outputs": [
    {
     "data": {
      "text/plain": [
       "{6, 7, 8, 'b', 'd', 'e', 'f'}"
      ]
     },
     "execution_count": 113,
     "metadata": {},
     "output_type": "execute_result"
    }
   ],
   "source": [
    "set2"
   ]
  },
  {
   "cell_type": "code",
   "execution_count": null,
   "id": "f509892c",
   "metadata": {},
   "outputs": [],
   "source": []
  }
 ],
 "metadata": {
  "kernelspec": {
   "display_name": "Python 3 (ipykernel)",
   "language": "python",
   "name": "python3"
  },
  "language_info": {
   "codemirror_mode": {
    "name": "ipython",
    "version": 3
   },
   "file_extension": ".py",
   "mimetype": "text/x-python",
   "name": "python",
   "nbconvert_exporter": "python",
   "pygments_lexer": "ipython3",
   "version": "3.9.12"
  }
 },
 "nbformat": 4,
 "nbformat_minor": 5
}
