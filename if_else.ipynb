{
 "cells": [
  {
   "cell_type": "code",
   "execution_count": 1,
   "id": "1f31eee5",
   "metadata": {},
   "outputs": [],
   "source": [
    "##until now we were dealing data types(int, string etc..) and data storage types (list, dict, set etcc...)"
   ]
  },
  {
   "cell_type": "code",
   "execution_count": 2,
   "id": "fe3d1b40",
   "metadata": {},
   "outputs": [],
   "source": [
    "##if else"
   ]
  },
  {
   "cell_type": "code",
   "execution_count": 4,
   "id": "ab82393d",
   "metadata": {},
   "outputs": [],
   "source": [
    "# if this happens do this else do something else"
   ]
  },
  {
   "cell_type": "code",
   "execution_count": 31,
   "id": "0f46503e",
   "metadata": {},
   "outputs": [],
   "source": [
    "#----------------------------1st\n",
    "##if there is one condition and no default value use this\n",
    "\n",
    "#if condition:\n",
    "    #print('something')"
   ]
  },
  {
   "cell_type": "code",
   "execution_count": 32,
   "id": "1b7c06de",
   "metadata": {},
   "outputs": [],
   "source": [
    "#---------------------------2nd\n",
    "##If there is only one condition where a default value is there use this\n",
    "# if condition:\n",
    "#     print('something')\n",
    "# else:\n",
    "#     print('default')"
   ]
  },
  {
   "cell_type": "code",
   "execution_count": 33,
   "id": "0f4462c4",
   "metadata": {},
   "outputs": [],
   "source": [
    "#--------------------------3rd\n",
    "## if more than one condition where a default value is there use this\n",
    "\n",
    "# if condition:\n",
    "#     print('something')\n",
    "# elif condition:\n",
    "#     print('something else')\n",
    "# else:\n",
    "#     print('default')"
   ]
  },
  {
   "cell_type": "code",
   "execution_count": 46,
   "id": "748128ef",
   "metadata": {},
   "outputs": [],
   "source": [
    "name = 'Ali'"
   ]
  },
  {
   "cell_type": "code",
   "execution_count": 47,
   "id": "81c9d3d1",
   "metadata": {},
   "outputs": [],
   "source": [
    "#1st if name ='Hyder' say 'Hi Hyder'\n",
    "\n",
    "if name == 'Hyder':\n",
    "    print('Hi Hyder')"
   ]
  },
  {
   "cell_type": "code",
   "execution_count": 48,
   "id": "c48fec4a",
   "metadata": {},
   "outputs": [
    {
     "name": "stdout",
     "output_type": "stream",
     "text": [
      "Hi Someone\n"
     ]
    }
   ],
   "source": [
    "#2nd if name ='Hyder' say 'Hi Hyder' if not(else) say 'Hi Someone'(default Value)\n",
    "\n",
    "if name == 'Hyder':\n",
    "    print('Hi Hyder')\n",
    "else:\n",
    "    print('Hi Someone')"
   ]
  },
  {
   "cell_type": "code",
   "execution_count": 49,
   "id": "856a5613",
   "metadata": {},
   "outputs": [
    {
     "name": "stdout",
     "output_type": "stream",
     "text": [
      "Hi Someone\n"
     ]
    }
   ],
   "source": [
    "#3rd if name ='Hyder' say 'Hi Hyder' if name = 'Hari' say 'Hi Hari' if not(else) say 'Hi Someone'(default Value)\n",
    "\n",
    "if name == 'Hyder':\n",
    "    print('Hi Hyder')\n",
    "    \n",
    "elif name == 'Hari':\n",
    "    print(\"Hi Hari\")\n",
    "    \n",
    "else:\n",
    "    print('Hi Someone')"
   ]
  },
  {
   "cell_type": "code",
   "execution_count": 50,
   "id": "8919db53",
   "metadata": {},
   "outputs": [
    {
     "name": "stdout",
     "output_type": "stream",
     "text": [
      "Hi Ali\n"
     ]
    }
   ],
   "source": [
    "#3rd if name ='Hyder' say 'Hi Hyder' if name = 'Hari' say 'Hi Hari' if name = 'Ali' say 'Hi Ali'\\\n",
    "#if not(else) say 'Hi Someone'(default Value)\n",
    "\n",
    "if name == 'Hyder':\n",
    "    print('Hi Hyder')\n",
    "    \n",
    "elif name == 'Hari':\n",
    "    print(\"Hi Hari\")\n",
    "\n",
    "elif name == 'Ali':\n",
    "    print('Hi Ali')\n",
    "    \n",
    "else:\n",
    "    print('Hi Someone')"
   ]
  },
  {
   "cell_type": "code",
   "execution_count": null,
   "id": "5c13f8e1",
   "metadata": {},
   "outputs": [],
   "source": []
  }
 ],
 "metadata": {
  "kernelspec": {
   "display_name": "Python 3 (ipykernel)",
   "language": "python",
   "name": "python3"
  },
  "language_info": {
   "codemirror_mode": {
    "name": "ipython",
    "version": 3
   },
   "file_extension": ".py",
   "mimetype": "text/x-python",
   "name": "python",
   "nbconvert_exporter": "python",
   "pygments_lexer": "ipython3",
   "version": "3.9.12"
  }
 },
 "nbformat": 4,
 "nbformat_minor": 5
}
