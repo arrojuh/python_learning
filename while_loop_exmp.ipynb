{
 "cells": [
  {
   "cell_type": "code",
   "execution_count": 1,
   "id": "b496f42c",
   "metadata": {},
   "outputs": [
    {
     "name": "stdout",
     "output_type": "stream",
     "text": [
      "sum of all numbers which are int or converted to int is::  21\n"
     ]
    }
   ],
   "source": [
    "#1) Using while loop, take the elements from the [1,2,3,\"4,\"5\",'6','c','d'] which can be converted to int and  add them together.\n",
    "# \tHint: use try,except method and check if the element can be converted to integer, if yes add them together. \n",
    "# \texpected output: 21\n",
    "\n",
    "list1 = [1,2,3,\"4\",\"5\",'6','c','d']\n",
    "condition = True\n",
    "ind = 0\n",
    "max_ind = len(list1)\n",
    "total = 0\n",
    "while condition==True:\n",
    "    try:\n",
    "        y = int(list1[ind])\n",
    "        total = total+y\n",
    "    except:\n",
    "        pass\n",
    "    ind = ind+1\n",
    "    if ind==max_ind:\n",
    "        condition = False\n",
    "    \n",
    "\n",
    "print(\"sum of all numbers which are int or converted to int is:: \",total)"
   ]
  },
  {
   "cell_type": "code",
   "execution_count": 2,
   "id": "a84adcb7",
   "metadata": {},
   "outputs": [
    {
     "name": "stdout",
     "output_type": "stream",
     "text": [
      "0\n",
      "1\n",
      "1\n",
      "2\n",
      "3\n",
      "5\n",
      "8\n",
      "13\n",
      "21\n",
      "34\n",
      "55\n",
      "89\n",
      "144\n",
      "233\n",
      "377\n",
      "610\n",
      "987\n",
      "1597\n",
      "2584\n",
      "4181\n",
      "6765\n",
      "total_sum of all fibonnaci seq is:: 10946\n"
     ]
    }
   ],
   "source": [
    "# 2) Using While loop print the fibonnaci sequence upto 100 numbers:\n",
    "# \tHint: make the loop run for 100 times(use 0 and 1 as default) and add the last two digits of the sequence.\n",
    "# \texpected output.\n",
    "\n",
    "#0,1,1,2,3,5,8..\n",
    "condition = True\n",
    "default1 = 0\n",
    "default2 = 1\n",
    "last_num = 1\n",
    "start = 1\n",
    "end = 20\n",
    "print(default1)\n",
    "print(default2)\n",
    "while condition==True:\n",
    "    print(last_num)\n",
    "    last_sum = last_num+default2\n",
    "    default2 = last_num\n",
    "    last_num = last_sum\n",
    "    start= start+1\n",
    "    if start == end:\n",
    "        condition = False\n",
    "print('total_sum of all fibonnaci seq is::', last_sum)"
   ]
  },
  {
   "cell_type": "code",
   "execution_count": 3,
   "id": "598e4c2f",
   "metadata": {
    "scrolled": true
   },
   "outputs": [
    {
     "name": "stdout",
     "output_type": "stream",
     "text": [
      "A\n",
      "B\n",
      "C\n",
      "D\n",
      "E\n",
      "F\n",
      "G\n",
      "H\n",
      "I\n",
      "J\n",
      "K\n",
      "L\n",
      "M\n",
      "N\n",
      "O\n",
      "P\n",
      "Q\n",
      "R\n",
      "S\n",
      "T\n",
      "U\n",
      "V\n",
      "W\n",
      "X\n",
      "Y\n",
      "Z\n"
     ]
    }
   ],
   "source": [
    "# 3) Using while loop, take a string of all alphabets 'abcdefghijklmnopqrstuvwxyz' and print each letter in Uppercase():\n",
    "# \tHint: Loop through the string and convert the letter to uppercase and print\n",
    "# \texpected Output: A B C D E F G H I J K L M N O P Q R S T U V W X Y Z --(need not be horizontally printed)\n",
    "\n",
    "str1 = 'abcdefghijklmnopqrstuvwxyz'\n",
    "condition = True\n",
    "ind = 0\n",
    "max_ind = len(str1)\n",
    "while condition==True:\n",
    "    print(str1[ind].upper())\n",
    "    ind = ind+1\n",
    "    if ind==max_ind:\n",
    "        condition = False\n",
    "    "
   ]
  },
  {
   "cell_type": "code",
   "execution_count": 4,
   "id": "86c1ec7f",
   "metadata": {},
   "outputs": [
    {
     "name": "stdout",
     "output_type": "stream",
     "text": [
      "-20\n",
      "-19\n",
      "-18\n",
      "-17\n",
      "-16\n",
      "-15\n",
      "-14\n",
      "-13\n",
      "-12\n",
      "-11\n",
      "-10\n",
      "-9\n",
      "-8\n",
      "-7\n",
      "-6\n",
      "-5\n",
      "-4\n",
      "-3\n",
      "-2\n",
      "-1\n",
      "0\n"
     ]
    }
   ],
   "source": [
    "# 4)Using while loop print numbers from -20 to 0 \n",
    "# \tHint: Start from -20 and go till 0 using addition\n",
    "# \texpected output: -20,-19,-18,-17....,0\n",
    "\n",
    "\n",
    "condition = True\n",
    "val1 = -20\n",
    "val2 = 0\n",
    "while condition==True:\n",
    "    print(val1)\n",
    "    val1 = val1+1\n",
    "    if val1>val2:\n",
    "        condition = False\n",
    "    "
   ]
  },
  {
   "cell_type": "code",
   "execution_count": 5,
   "id": "87cbc9f7",
   "metadata": {},
   "outputs": [
    {
     "name": "stdout",
     "output_type": "stream",
     "text": [
      "1\n",
      "3\n",
      "5\n",
      "7\n",
      "9\n",
      "11\n"
     ]
    }
   ],
   "source": [
    "# 5) using while loop print the elements in the list with odd index:: List1 =  [0,1,2,3,4,5,6,7,8,9,10,11,12]\n",
    "# \tHint: skip one index starting from 1 to skip the even indexes and print the element of that index\n",
    "# \texpected output: 1 3 5 7 9 11\n",
    "List1 =  [0,1,2,3,4,5,6,7,8,9,10,11,12]\n",
    "condition = True\n",
    "ind = 1\n",
    "max_ind = len(List1)\n",
    "while condition==True:\n",
    "    print(List1[ind])\n",
    "    ind = ind+2 ## skips all the even number exx:: 1,1+2,1+2+2,1+2+2+2....\n",
    "    if ind==max_ind:\n",
    "        condition = False"
   ]
  },
  {
   "cell_type": "code",
   "execution_count": null,
   "id": "fdcb91f2",
   "metadata": {},
   "outputs": [],
   "source": []
  }
 ],
 "metadata": {
  "kernelspec": {
   "display_name": "Python 3 (ipykernel)",
   "language": "python",
   "name": "python3"
  },
  "language_info": {
   "codemirror_mode": {
    "name": "ipython",
    "version": 3
   },
   "file_extension": ".py",
   "mimetype": "text/x-python",
   "name": "python",
   "nbconvert_exporter": "python",
   "pygments_lexer": "ipython3",
   "version": "3.9.12"
  }
 },
 "nbformat": 4,
 "nbformat_minor": 5
}
