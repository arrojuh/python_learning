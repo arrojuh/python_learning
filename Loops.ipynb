{
 "cells": [
  {
   "cell_type": "markdown",
   "id": "c344640f",
   "metadata": {},
   "source": [
    "## For Loop"
   ]
  },
  {
   "cell_type": "code",
   "execution_count": 1,
   "id": "b99109e9",
   "metadata": {},
   "outputs": [],
   "source": [
    "#for item in list_of_items:\n",
    "    #print(item)\n",
    "    #or do something"
   ]
  },
  {
   "cell_type": "code",
   "execution_count": 2,
   "id": "87591bd6",
   "metadata": {},
   "outputs": [
    {
     "name": "stdout",
     "output_type": "stream",
     "text": [
      "0\n",
      "1\n",
      "2\n",
      "3\n",
      "4\n",
      "5\n",
      "6\n",
      "7\n",
      "8\n",
      "9\n"
     ]
    }
   ],
   "source": [
    "for item in range(0,10):\n",
    "    print(item)"
   ]
  },
  {
   "cell_type": "code",
   "execution_count": 4,
   "id": "0f47fbd7",
   "metadata": {},
   "outputs": [],
   "source": [
    "list1 =['a','b','c','d','e']\n",
    "dict1 = {'f':1,'g':2,'h':3}"
   ]
  },
  {
   "cell_type": "code",
   "execution_count": 5,
   "id": "d8cd7a21",
   "metadata": {},
   "outputs": [
    {
     "name": "stdout",
     "output_type": "stream",
     "text": [
      "a\n",
      "b\n",
      "c\n",
      "d\n",
      "e\n"
     ]
    }
   ],
   "source": [
    "for item in list1:\n",
    "    print(item)"
   ]
  },
  {
   "cell_type": "code",
   "execution_count": 6,
   "id": "7eb25ac4",
   "metadata": {},
   "outputs": [
    {
     "name": "stdout",
     "output_type": "stream",
     "text": [
      "f\n",
      "g\n",
      "h\n"
     ]
    }
   ],
   "source": [
    "for item in dict1:\n",
    "    print(item)\n",
    "    "
   ]
  },
  {
   "cell_type": "code",
   "execution_count": 7,
   "id": "a397bbe2",
   "metadata": {},
   "outputs": [
    {
     "name": "stdout",
     "output_type": "stream",
     "text": [
      "1\n",
      "2\n",
      "3\n"
     ]
    }
   ],
   "source": [
    "for item in dict1.values():\n",
    "    print(item)\n",
    "    "
   ]
  },
  {
   "cell_type": "code",
   "execution_count": 8,
   "id": "82b42210",
   "metadata": {
    "scrolled": true
   },
   "outputs": [
    {
     "name": "stdout",
     "output_type": "stream",
     "text": [
      "keys f\n",
      "values 1\n",
      "keys g\n",
      "values 2\n",
      "keys h\n",
      "values 3\n"
     ]
    }
   ],
   "source": [
    "for i,j in dict1.items():\n",
    "    print('keys',i)\n",
    "    print('values',j)"
   ]
  },
  {
   "cell_type": "code",
   "execution_count": 9,
   "id": "cdf3d6df",
   "metadata": {},
   "outputs": [],
   "source": [
    "# we want to print all the odd numbers between 1 and 100"
   ]
  },
  {
   "cell_type": "code",
   "execution_count": 12,
   "id": "00f55ab6",
   "metadata": {},
   "outputs": [],
   "source": [
    "#n = 0,1,2,3,4,------"
   ]
  },
  {
   "cell_type": "code",
   "execution_count": 14,
   "id": "df16b4a7",
   "metadata": {},
   "outputs": [
    {
     "name": "stdout",
     "output_type": "stream",
     "text": [
      "1 first odd number\n",
      "3 second odd number\n"
     ]
    }
   ],
   "source": [
    "# formula= 2n+1\n",
    "\n",
    "print(2*0+1 ,\"first odd number\")\n",
    "print(2*1+1 ,\"second odd number\")"
   ]
  },
  {
   "cell_type": "code",
   "execution_count": 20,
   "id": "4e042cb6",
   "metadata": {},
   "outputs": [],
   "source": [
    "#numerator/denominator = quotient(decimal)\n",
    "#numerator//denominator = quotient(wholenumber)\n",
    "#numerator%denominator = remainder"
   ]
  },
  {
   "cell_type": "code",
   "execution_count": 25,
   "id": "cf7187f7",
   "metadata": {},
   "outputs": [
    {
     "data": {
      "text/plain": [
       "3.3333333333333335"
      ]
     },
     "execution_count": 25,
     "metadata": {},
     "output_type": "execute_result"
    }
   ],
   "source": [
    "10/3"
   ]
  },
  {
   "cell_type": "code",
   "execution_count": 26,
   "id": "bd4c8be2",
   "metadata": {},
   "outputs": [
    {
     "data": {
      "text/plain": [
       "3"
      ]
     },
     "execution_count": 26,
     "metadata": {},
     "output_type": "execute_result"
    }
   ],
   "source": [
    "10//3"
   ]
  },
  {
   "cell_type": "code",
   "execution_count": 27,
   "id": "24b807e7",
   "metadata": {},
   "outputs": [
    {
     "data": {
      "text/plain": [
       "1"
      ]
     },
     "execution_count": 27,
     "metadata": {},
     "output_type": "execute_result"
    }
   ],
   "source": [
    "10%3"
   ]
  },
  {
   "cell_type": "code",
   "execution_count": 16,
   "id": "9979bb09",
   "metadata": {},
   "outputs": [
    {
     "name": "stdout",
     "output_type": "stream",
     "text": [
      "1\n",
      "3\n",
      "5\n",
      "7\n",
      "9\n",
      "11\n",
      "13\n",
      "15\n",
      "17\n",
      "19\n",
      "21\n",
      "23\n",
      "25\n",
      "27\n",
      "29\n",
      "31\n",
      "33\n",
      "35\n",
      "37\n",
      "39\n",
      "41\n",
      "43\n",
      "45\n",
      "47\n",
      "49\n",
      "51\n",
      "53\n",
      "55\n",
      "57\n",
      "59\n",
      "61\n",
      "63\n",
      "65\n",
      "67\n",
      "69\n",
      "71\n",
      "73\n",
      "75\n",
      "77\n",
      "79\n",
      "81\n",
      "83\n",
      "85\n",
      "87\n",
      "89\n",
      "91\n",
      "93\n",
      "95\n",
      "97\n",
      "99\n"
     ]
    }
   ],
   "source": [
    "for item in range(0,50):\n",
    "    print(2*item+1)\n",
    "    "
   ]
  },
  {
   "cell_type": "code",
   "execution_count": null,
   "id": "e50444df",
   "metadata": {},
   "outputs": [],
   "source": [
    "#find all the numbers which are divisible by 3 within 1 to 100"
   ]
  },
  {
   "cell_type": "code",
   "execution_count": 29,
   "id": "beb76345",
   "metadata": {},
   "outputs": [
    {
     "name": "stdout",
     "output_type": "stream",
     "text": [
      "0  this is divisible by 3\n",
      "3  this is divisible by 3\n",
      "6  this is divisible by 3\n",
      "9  this is divisible by 3\n",
      "12  this is divisible by 3\n",
      "15  this is divisible by 3\n",
      "18  this is divisible by 3\n",
      "21  this is divisible by 3\n",
      "24  this is divisible by 3\n",
      "27  this is divisible by 3\n",
      "30  this is divisible by 3\n",
      "33  this is divisible by 3\n",
      "36  this is divisible by 3\n",
      "39  this is divisible by 3\n",
      "42  this is divisible by 3\n",
      "45  this is divisible by 3\n",
      "48  this is divisible by 3\n",
      "51  this is divisible by 3\n",
      "54  this is divisible by 3\n",
      "57  this is divisible by 3\n",
      "60  this is divisible by 3\n",
      "63  this is divisible by 3\n",
      "66  this is divisible by 3\n",
      "69  this is divisible by 3\n",
      "72  this is divisible by 3\n",
      "75  this is divisible by 3\n",
      "78  this is divisible by 3\n",
      "81  this is divisible by 3\n",
      "84  this is divisible by 3\n",
      "87  this is divisible by 3\n",
      "90  this is divisible by 3\n",
      "93  this is divisible by 3\n",
      "96  this is divisible by 3\n",
      "99  this is divisible by 3\n"
     ]
    }
   ],
   "source": [
    "for number in range(0,100):\n",
    "    if number%3 == 0:\n",
    "        print(number,' this is divisible by 3')\n",
    "#     else:\n",
    "#         print(number, ' this is not divisble by 3')"
   ]
  },
  {
   "cell_type": "markdown",
   "id": "a7824f5a",
   "metadata": {},
   "source": [
    "## While Loop"
   ]
  },
  {
   "cell_type": "code",
   "execution_count": 53,
   "id": "914b169e",
   "metadata": {},
   "outputs": [],
   "source": [
    "#syntax\n",
    "# while(condition is True):\n",
    "#    print(item)"
   ]
  },
  {
   "cell_type": "code",
   "execution_count": 63,
   "id": "e3a97277",
   "metadata": {},
   "outputs": [],
   "source": [
    "condition = True\n",
    "t = 0"
   ]
  },
  {
   "cell_type": "code",
   "execution_count": 64,
   "id": "e305850e",
   "metadata": {},
   "outputs": [
    {
     "name": "stdout",
     "output_type": "stream",
     "text": [
      "0\n",
      "1\n",
      "2\n",
      "3\n",
      "4\n",
      "5\n",
      "6\n",
      "7\n",
      "8\n",
      "9\n",
      "10\n",
      "11\n",
      "12\n",
      "13\n",
      "14\n",
      "15\n",
      "16\n",
      "17\n",
      "18\n",
      "19\n",
      "20\n",
      "21\n",
      "22\n",
      "23\n",
      "24\n",
      "25\n",
      "26\n",
      "27\n",
      "28\n",
      "29\n",
      "30\n",
      "31\n",
      "32\n",
      "33\n",
      "34\n",
      "35\n",
      "36\n",
      "37\n",
      "38\n",
      "39\n",
      "40\n",
      "41\n",
      "42\n",
      "43\n",
      "44\n",
      "45\n",
      "46\n",
      "47\n",
      "48\n",
      "49\n",
      "50\n",
      "51\n",
      "52\n",
      "53\n",
      "54\n",
      "55\n",
      "56\n",
      "57\n",
      "58\n",
      "59\n",
      "60\n",
      "61\n",
      "62\n",
      "63\n",
      "64\n",
      "65\n",
      "66\n",
      "67\n",
      "68\n",
      "69\n",
      "70\n",
      "71\n",
      "72\n",
      "73\n",
      "74\n",
      "75\n",
      "76\n",
      "77\n",
      "78\n",
      "79\n",
      "80\n",
      "81\n",
      "82\n",
      "83\n",
      "84\n",
      "85\n",
      "86\n",
      "87\n",
      "88\n",
      "89\n",
      "90\n",
      "91\n",
      "92\n",
      "93\n",
      "94\n",
      "95\n",
      "96\n",
      "97\n",
      "98\n",
      "99\n"
     ]
    }
   ],
   "source": [
    "while(condition):\n",
    "    print(t)\n",
    "    t = t+1\n",
    "    if t==100:\n",
    "        condition = False"
   ]
  },
  {
   "cell_type": "code",
   "execution_count": 71,
   "id": "0853a31c",
   "metadata": {},
   "outputs": [],
   "source": [
    "#2n+1 formula for odd number\n",
    "n = 0 #starting from zero\n",
    "#conditon = (n!=50)"
   ]
  },
  {
   "cell_type": "code",
   "execution_count": 72,
   "id": "fa4321f9",
   "metadata": {
    "scrolled": true
   },
   "outputs": [
    {
     "name": "stdout",
     "output_type": "stream",
     "text": [
      "old n: 0\n",
      "odd number 1\n",
      "new n: 1 \n",
      "\n",
      "old n: 1\n",
      "odd number 3\n",
      "new n: 2 \n",
      "\n",
      "old n: 2\n",
      "odd number 5\n",
      "new n: 3 \n",
      "\n",
      "old n: 3\n",
      "odd number 7\n",
      "new n: 4 \n",
      "\n",
      "old n: 4\n",
      "odd number 9\n",
      "new n: 5 \n",
      "\n",
      "old n: 5\n",
      "odd number 11\n",
      "new n: 6 \n",
      "\n",
      "old n: 6\n",
      "odd number 13\n",
      "new n: 7 \n",
      "\n",
      "old n: 7\n",
      "odd number 15\n",
      "new n: 8 \n",
      "\n",
      "old n: 8\n",
      "odd number 17\n",
      "new n: 9 \n",
      "\n",
      "old n: 9\n",
      "odd number 19\n",
      "new n: 10 \n",
      "\n",
      "old n: 10\n",
      "odd number 21\n",
      "new n: 11 \n",
      "\n",
      "old n: 11\n",
      "odd number 23\n",
      "new n: 12 \n",
      "\n",
      "old n: 12\n",
      "odd number 25\n",
      "new n: 13 \n",
      "\n",
      "old n: 13\n",
      "odd number 27\n",
      "new n: 14 \n",
      "\n",
      "old n: 14\n",
      "odd number 29\n",
      "new n: 15 \n",
      "\n",
      "old n: 15\n",
      "odd number 31\n",
      "new n: 16 \n",
      "\n",
      "old n: 16\n",
      "odd number 33\n",
      "new n: 17 \n",
      "\n",
      "old n: 17\n",
      "odd number 35\n",
      "new n: 18 \n",
      "\n",
      "old n: 18\n",
      "odd number 37\n",
      "new n: 19 \n",
      "\n",
      "old n: 19\n",
      "odd number 39\n",
      "new n: 20 \n",
      "\n",
      "old n: 20\n",
      "odd number 41\n",
      "new n: 21 \n",
      "\n",
      "old n: 21\n",
      "odd number 43\n",
      "new n: 22 \n",
      "\n",
      "old n: 22\n",
      "odd number 45\n",
      "new n: 23 \n",
      "\n",
      "old n: 23\n",
      "odd number 47\n",
      "new n: 24 \n",
      "\n",
      "old n: 24\n",
      "odd number 49\n",
      "new n: 25 \n",
      "\n",
      "old n: 25\n",
      "odd number 51\n",
      "new n: 26 \n",
      "\n",
      "old n: 26\n",
      "odd number 53\n",
      "new n: 27 \n",
      "\n",
      "old n: 27\n",
      "odd number 55\n",
      "new n: 28 \n",
      "\n",
      "old n: 28\n",
      "odd number 57\n",
      "new n: 29 \n",
      "\n",
      "old n: 29\n",
      "odd number 59\n",
      "new n: 30 \n",
      "\n",
      "old n: 30\n",
      "odd number 61\n",
      "new n: 31 \n",
      "\n",
      "old n: 31\n",
      "odd number 63\n",
      "new n: 32 \n",
      "\n",
      "old n: 32\n",
      "odd number 65\n",
      "new n: 33 \n",
      "\n",
      "old n: 33\n",
      "odd number 67\n",
      "new n: 34 \n",
      "\n",
      "old n: 34\n",
      "odd number 69\n",
      "new n: 35 \n",
      "\n",
      "old n: 35\n",
      "odd number 71\n",
      "new n: 36 \n",
      "\n",
      "old n: 36\n",
      "odd number 73\n",
      "new n: 37 \n",
      "\n",
      "old n: 37\n",
      "odd number 75\n",
      "new n: 38 \n",
      "\n",
      "old n: 38\n",
      "odd number 77\n",
      "new n: 39 \n",
      "\n",
      "old n: 39\n",
      "odd number 79\n",
      "new n: 40 \n",
      "\n",
      "old n: 40\n",
      "odd number 81\n",
      "new n: 41 \n",
      "\n",
      "old n: 41\n",
      "odd number 83\n",
      "new n: 42 \n",
      "\n",
      "old n: 42\n",
      "odd number 85\n",
      "new n: 43 \n",
      "\n",
      "old n: 43\n",
      "odd number 87\n",
      "new n: 44 \n",
      "\n",
      "old n: 44\n",
      "odd number 89\n",
      "new n: 45 \n",
      "\n",
      "old n: 45\n",
      "odd number 91\n",
      "new n: 46 \n",
      "\n",
      "old n: 46\n",
      "odd number 93\n",
      "new n: 47 \n",
      "\n",
      "old n: 47\n",
      "odd number 95\n",
      "new n: 48 \n",
      "\n",
      "old n: 48\n",
      "odd number 97\n",
      "new n: 49 \n",
      "\n",
      "old n: 49\n",
      "odd number 99\n",
      "new n: 50 \n",
      "\n"
     ]
    }
   ],
   "source": [
    "# we want to print all the odd numbers between 1 and 100\n",
    "while(n!=50):\n",
    "    print('old n:',n)\n",
    "    print('odd number',2*n+1)\n",
    "    n = n+1\n",
    "    print('new n:',n,'\\n')"
   ]
  },
  {
   "cell_type": "code",
   "execution_count": 74,
   "id": "ba071517",
   "metadata": {},
   "outputs": [
    {
     "data": {
      "text/plain": [
       "False"
      ]
     },
     "execution_count": 74,
     "metadata": {},
     "output_type": "execute_result"
    }
   ],
   "source": [
    "n!=50"
   ]
  },
  {
   "cell_type": "code",
   "execution_count": null,
   "id": "2456c3c7",
   "metadata": {},
   "outputs": [],
   "source": [
    "#find all the numbers which are divisible by 3 within 1 to 100"
   ]
  }
 ],
 "metadata": {
  "kernelspec": {
   "display_name": "Python 3 (ipykernel)",
   "language": "python",
   "name": "python3"
  },
  "language_info": {
   "codemirror_mode": {
    "name": "ipython",
    "version": 3
   },
   "file_extension": ".py",
   "mimetype": "text/x-python",
   "name": "python",
   "nbconvert_exporter": "python",
   "pygments_lexer": "ipython3",
   "version": "3.9.12"
  }
 },
 "nbformat": 4,
 "nbformat_minor": 5
}
